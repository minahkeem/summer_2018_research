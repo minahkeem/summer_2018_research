{
 "cells": [
  {
   "cell_type": "code",
   "execution_count": 1,
   "metadata": {},
   "outputs": [],
   "source": [
    "import numpy as np\n",
    "import pickle\n",
    "\n",
    "def load_file(file):\n",
    "    with open(file, 'rb') as f:\n",
    "        return pickle.load(f)\n",
    "    \n",
    "idx_to_word = load_file(\"idx_to_word.pkl\")\n",
    "word_to_idx = load_file(\"word_to_idx.pkl\")\n",
    "vectors = np.load(\"output.npy\")\n",
    "\n",
    "def get_word_vector(word):\n",
    "    idx = word_to_idx[word]\n",
    "    return vectors[idx]\n",
    "\n",
    "def get_word_at_index(index):\n",
    "    return idx_to_word[index]"
   ]
  },
  {
   "cell_type": "code",
   "execution_count": 12,
   "metadata": {},
   "outputs": [
    {
     "data": {
      "text/plain": [
       "MiniBatchKMeans(batch_size=500, compute_labels=True, init='k-means++',\n",
       "        init_size=None, max_iter=100, max_no_improvement=10, n_clusters=10,\n",
       "        n_init=3, random_state=None, reassignment_ratio=0.01, tol=0.0,\n",
       "        verbose=0)"
      ]
     },
     "execution_count": 12,
     "metadata": {},
     "output_type": "execute_result"
    }
   ],
   "source": [
    "from sklearn.cluster import MiniBatchKMeans\n",
    "\n",
    "mbk = MiniBatchKMeans(n_clusters = 10, batch_size = 500)\n",
    "mbk.fit(vectors)"
   ]
  },
  {
   "cell_type": "code",
   "execution_count": 13,
   "metadata": {},
   "outputs": [
    {
     "data": {
      "text/plain": [
       "array([[-0.00093012, -0.0386503 , -0.046581  , ..., -0.01741392,\n",
       "        -0.05144381, -0.0281668 ],\n",
       "       [-0.00786603, -0.02283308, -0.03605128, ..., -0.00937346,\n",
       "        -0.04487131, -0.03172146],\n",
       "       [-0.01434887, -0.03896656, -0.04556866, ..., -0.01176005,\n",
       "        -0.03827224, -0.04959282],\n",
       "       ...,\n",
       "       [ 0.01467093,  0.01585544, -0.03821286, ..., -0.00058611,\n",
       "        -0.08725132, -0.05356698],\n",
       "       [-0.00606075, -0.02053386, -0.03229053, ..., -0.03689686,\n",
       "        -0.05064145, -0.04218234],\n",
       "       [-0.01675148, -0.02532742, -0.04082774, ..., -0.0100484 ,\n",
       "        -0.05407717, -0.06711932]], dtype=float32)"
      ]
     },
     "execution_count": 13,
     "metadata": {},
     "output_type": "execute_result"
    }
   ],
   "source": [
    "mbk.cluster_centers_"
   ]
  },
  {
   "cell_type": "code",
   "execution_count": 14,
   "metadata": {},
   "outputs": [
    {
     "data": {
      "text/plain": [
       "array([[-0.02985769, -0.03923954, -0.0193511 , ..., -0.04687731,\n",
       "        -0.06903055, -0.05992738],\n",
       "       [-0.0058338 , -0.05957004, -0.03742093, ..., -0.05318371,\n",
       "        -0.02038277, -0.06202114],\n",
       "       [-0.00809794,  0.02141076, -0.03063158, ..., -0.00790764,\n",
       "        -0.07618432, -0.07131716],\n",
       "       ...,\n",
       "       [-0.00058425, -0.05786744, -0.0474753 , ..., -0.03131336,\n",
       "        -0.04294971, -0.06015962],\n",
       "       [ 0.01150776,  0.00129292, -0.04120871, ..., -0.03023674,\n",
       "        -0.06795908, -0.07554299],\n",
       "       [-0.03337324, -0.0394639 , -0.0612554 , ..., -0.04322901,\n",
       "        -0.04506031, -0.07519749]], dtype=float32)"
      ]
     },
     "execution_count": 14,
     "metadata": {},
     "output_type": "execute_result"
    }
   ],
   "source": [
    "vectors"
   ]
  },
  {
   "cell_type": "code",
   "execution_count": 15,
   "metadata": {},
   "outputs": [
    {
     "data": {
      "text/plain": [
       "['external noise generates',\n",
       " 'shared segmentation',\n",
       " 'conventional networks fix',\n",
       " 'signal recovery problems',\n",
       " 'noise ratio diverges']"
      ]
     },
     "execution_count": 15,
     "metadata": {},
     "output_type": "execute_result"
    }
   ],
   "source": [
    "words = []\n",
    "\n",
    "for i in range(len(vectors)):\n",
    "    if vectors[i] in mbk.cluster_centers_:\n",
    "        words.append(get_word_at_index(i))\n",
    "        \n",
    "words"
   ]
  },
  {
   "cell_type": "code",
   "execution_count": 16,
   "metadata": {},
   "outputs": [
    {
     "data": {
      "text/plain": [
       "10"
      ]
     },
     "execution_count": 16,
     "metadata": {},
     "output_type": "execute_result"
    }
   ],
   "source": [
    "len(mbk.cluster_centers_)"
   ]
  },
  {
   "cell_type": "code",
   "execution_count": null,
   "metadata": {},
   "outputs": [],
   "source": []
  }
 ],
 "metadata": {
  "kernelspec": {
   "display_name": "Python 3",
   "language": "python",
   "name": "python3"
  },
  "language_info": {
   "codemirror_mode": {
    "name": "ipython",
    "version": 3
   },
   "file_extension": ".py",
   "mimetype": "text/x-python",
   "name": "python",
   "nbconvert_exporter": "python",
   "pygments_lexer": "ipython3",
   "version": "3.5.4"
  }
 },
 "nbformat": 4,
 "nbformat_minor": 2
}
